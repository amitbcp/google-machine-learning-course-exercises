{
 "cells": [
  {
   "cell_type": "markdown",
   "metadata": {
    "colab_type": "text",
    "id": "JndnmDMp66FL"
   },
   "source": [
    "#### Copyright 2017 Google LLC."
   ]
  },
  {
   "cell_type": "code",
   "execution_count": 1,
   "metadata": {
    "cellView": "both",
    "colab": {
     "autoexec": {
      "startup": false,
      "wait_interval": 0
     }
    },
    "colab_type": "code",
    "id": "hMqWDc_m6rUC"
   },
   "outputs": [],
   "source": [
    "# Licensed under the Apache License, Version 2.0 (the \"License\");\n",
    "# you may not use this file except in compliance with the License.\n",
    "# You may obtain a copy of the License at\n",
    "#\n",
    "# https://www.apache.org/licenses/LICENSE-2.0\n",
    "#\n",
    "# Unless required by applicable law or agreed to in writing, software\n",
    "# distributed under the License is distributed on an \"AS IS\" BASIS,\n",
    "# WITHOUT WARRANTIES OR CONDITIONS OF ANY KIND, either express or implied.\n",
    "# See the License for the specific language governing permissions and\n",
    "# limitations under the License."
   ]
  },
  {
   "cell_type": "markdown",
   "metadata": {
    "colab_type": "text",
    "id": "cH-YtyZs7Gcg"
   },
   "source": [
    "# Prework: Hello World"
   ]
  },
  {
   "cell_type": "markdown",
   "metadata": {
    "colab_type": "text",
    "id": "r0QBC2kTixPn"
   },
   "source": [
    "**Learning Objective:** Run a TensorFlow program in the browser."
   ]
  },
  {
   "cell_type": "markdown",
   "metadata": {
    "colab_type": "text",
    "id": "33fL46pgixPo"
   },
   "source": [
    "Here is a \"Hello World\" TensorFlow program:"
   ]
  },
  {
   "cell_type": "code",
   "execution_count": 3,
   "metadata": {
    "cellView": "both",
    "colab": {
     "autoexec": {
      "startup": false,
      "wait_interval": 0
     }
    },
    "colab_type": "code",
    "id": "bRuPN7qo7ICp"
   },
   "outputs": [
    {
     "name": "stdout",
     "output_type": "stream",
     "text": [
      "b'Hello, world!'\n"
     ]
    }
   ],
   "source": [
    "import tensorflow as tf\n",
    "\n",
    "c = tf.constant('Hello, world!')\n",
    "\n",
    "with tf.Session() as sess:\n",
    "\n",
    "    print(sess.run(c))\n"
   ]
  },
  {
   "cell_type": "markdown",
   "metadata": {
    "colab_type": "text",
    "id": "Bl1nAshab6m5"
   },
   "source": [
    "## To Run This Program\n",
    "\n",
    "  1. Click anywhere in the code block (for example, on the word `import`).\n",
    "\n",
    "  2. Click the right-facing-triangle icon in the upper-left corner of the code block, or hit ⌘/Ctrl-Enter.\n",
    "\n",
    "     The program will take a few seconds to run. If all goes well, the program will write the phrase `Hello, world!` just below the code block\n",
    "\n",
    "This entire program consists of a single code block. However, most exercises consist of multiple code blocks, in which case you should **run the code blocks individually in sequence, from top to bottom.** \n",
    "\n",
    "Running the code blocks out of sequence typically causes errors."
   ]
  },
  {
   "cell_type": "markdown",
   "metadata": {
    "colab_type": "text",
    "id": "UpzZ0Gv-uKf_"
   },
   "source": [
    "## Useful Keyboard Shortcuts\n",
    "\n",
    "* **⌘/Ctrl+m,b:** creates an empty code cell below the cell that's currently selected\n",
    "* **⌘/Ctrl+m,i:** interrupts a running cell\n",
    "* **⌘/Ctrl+m,h:** shows a list of all keyboard shortcuts\n",
    "* For documentation on any TensorFlow API method, write help(function):\n"
   ]
  },
  {
   "cell_type": "code",
   "execution_count": 5,
   "metadata": {},
   "outputs": [
    {
     "name": "stdout",
     "output_type": "stream",
     "text": [
      "Help on function constant in module tensorflow.python.framework.constant_op:\n",
      "\n",
      "constant(value, dtype=None, shape=None, name='Const', verify_shape=False)\n",
      "    Creates a constant tensor.\n",
      "    \n",
      "    The resulting tensor is populated with values of type `dtype`, as\n",
      "    specified by arguments `value` and (optionally) `shape` (see examples\n",
      "    below).\n",
      "    \n",
      "    The argument `value` can be a constant value, or a list of values of type\n",
      "    `dtype`. If `value` is a list, then the length of the list must be less\n",
      "    than or equal to the number of elements implied by the `shape` argument (if\n",
      "    specified). In the case where the list length is less than the number of\n",
      "    elements specified by `shape`, the last element in the list will be used\n",
      "    to fill the remaining entries.\n",
      "    \n",
      "    The argument `shape` is optional. If present, it specifies the dimensions of\n",
      "    the resulting tensor. If not present, the shape of `value` is used.\n",
      "    \n",
      "    If the argument `dtype` is not specified, then the type is inferred from\n",
      "    the type of `value`.\n",
      "    \n",
      "    For example:\n",
      "    \n",
      "    ```python\n",
      "    # Constant 1-D Tensor populated with value list.\n",
      "    tensor = tf.constant([1, 2, 3, 4, 5, 6, 7]) => [1 2 3 4 5 6 7]\n",
      "    \n",
      "    # Constant 2-D tensor populated with scalar value -1.\n",
      "    tensor = tf.constant(-1.0, shape=[2, 3]) => [[-1. -1. -1.]\n",
      "                                                 [-1. -1. -1.]]\n",
      "    ```\n",
      "    \n",
      "    Args:\n",
      "      value:          A constant value (or list) of output type `dtype`.\n",
      "    \n",
      "      dtype:          The type of the elements of the resulting tensor.\n",
      "    \n",
      "      shape:          Optional dimensions of resulting tensor.\n",
      "    \n",
      "      name:           Optional name for the tensor.\n",
      "    \n",
      "      verify_shape:   Boolean that enables verification of a shape of values.\n",
      "    \n",
      "    Returns:\n",
      "      A Constant Tensor.\n",
      "    \n",
      "    Raises:\n",
      "      TypeError: if shape is incorrectly specified or unsupported.\n",
      "\n"
     ]
    }
   ],
   "source": [
    "help(tf.constant)"
   ]
  },
  {
   "cell_type": "code",
   "execution_count": null,
   "metadata": {},
   "outputs": [],
   "source": []
  }
 ],
 "metadata": {
  "colab": {
   "collapsed_sections": [
    "JndnmDMp66FL"
   ],
   "default_view": {},
   "name": "hello_world.ipynb",
   "version": "0.3.2",
   "views": {}
  },
  "kernelspec": {
   "display_name": "Python 3",
   "language": "python",
   "name": "python3"
  },
  "language_info": {
   "codemirror_mode": {
    "name": "ipython",
    "version": 3
   },
   "file_extension": ".py",
   "mimetype": "text/x-python",
   "name": "python",
   "nbconvert_exporter": "python",
   "pygments_lexer": "ipython3",
   "version": "3.6.4"
  }
 },
 "nbformat": 4,
 "nbformat_minor": 1
}
